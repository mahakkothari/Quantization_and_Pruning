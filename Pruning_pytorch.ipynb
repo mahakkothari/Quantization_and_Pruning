{
  "nbformat": 4,
  "nbformat_minor": 0,
  "metadata": {
    "colab": {
      "name": "Copy of Copy of Pruning.ipynb",
      "provenance": [],
      "collapsed_sections": [],
      "machine_shape": "hm"
    },
    "kernelspec": {
      "name": "python3",
      "display_name": "Python 3"
    },
    "accelerator": "GPU"
  },
  "cells": [
    {
      "cell_type": "code",
      "metadata": {
        "id": "tO9ZEePtpknZ",
        "colab_type": "code",
        "colab": {
          "base_uri": "https://localhost:8080/",
          "height": 125
        },
        "outputId": "bdc3aff4-3a09-4dc9-dfee-9834a43312e5"
      },
      "source": [
        "from google.colab import drive\n",
        "drive.mount('/content/drive')"
      ],
      "execution_count": null,
      "outputs": [
        {
          "output_type": "stream",
          "text": [
            "Go to this URL in a browser: https://accounts.google.com/o/oauth2/auth?client_id=947318989803-6bn6qk8qdgf4n4g3pfee6491hc0brc4i.apps.googleusercontent.com&redirect_uri=urn%3aietf%3awg%3aoauth%3a2.0%3aoob&response_type=code&scope=email%20https%3a%2f%2fwww.googleapis.com%2fauth%2fdocs.test%20https%3a%2f%2fwww.googleapis.com%2fauth%2fdrive%20https%3a%2f%2fwww.googleapis.com%2fauth%2fdrive.photos.readonly%20https%3a%2f%2fwww.googleapis.com%2fauth%2fpeopleapi.readonly\n",
            "\n",
            "Enter your authorization code:\n",
            "··········\n",
            "Mounted at /content/drive\n"
          ],
          "name": "stdout"
        }
      ]
    },
    {
      "cell_type": "code",
      "metadata": {
        "id": "h1CaNiFIlfdx",
        "colab_type": "code",
        "colab": {}
      },
      "source": [
        "import pandas as pd\n",
        "import numpy as np\n",
        "import os\n",
        "import torch\n",
        "#import torchvision\n",
        "from torch.utils.data import DataLoader\n",
        "#from torchvision import transforms\n",
        "from torch.utils.data import Dataset,SubsetRandomSampler,Sampler\n",
        "import matplotlib.pyplot as plt\n",
        "from torch import nn\n",
        "import torch.nn.functional as F\n",
        "from torch import optim\n",
        "import glob\n",
        "from skimage import io, transform\n",
        "from PIL import Image\n",
        "import random\n",
        "import PIL.ImageEnhance as ie\n",
        "import copy\n",
        "from torch.autograd import Variable\n",
        "import PIL.Image as im\n",
        "from math import floor\n",
        "from torchvision.transforms import *\n",
        "from numpy import linalg as LA\n",
        "from scipy.stats import rankdata\n",
        "from collections import OrderedDict"
      ],
      "execution_count": null,
      "outputs": []
    },
    {
      "cell_type": "code",
      "metadata": {
        "id": "qb4nddyzpuq0",
        "colab_type": "code",
        "colab": {
          "base_uri": "https://localhost:8080/",
          "height": 34
        },
        "outputId": "6fd6f85e-28ba-43d3-e0cb-c2fadc0b2769"
      },
      "source": [
        "%cd ../content/drive/My Drive"
      ],
      "execution_count": null,
      "outputs": [
        {
          "output_type": "stream",
          "text": [
            "/content/drive/My Drive\n"
          ],
          "name": "stdout"
        }
      ]
    },
    {
      "cell_type": "code",
      "metadata": {
        "id": "iSgKD5cap3CX",
        "colab_type": "code",
        "colab": {
          "base_uri": "https://localhost:8080/",
          "height": 123
        },
        "outputId": "701fb016-9994-4c14-81ea-8eb619bef1f3"
      },
      "source": [
        "!ls"
      ],
      "execution_count": null,
      "outputs": [
        {
          "output_type": "stream",
          "text": [
            "'Getting started.pdf'   model_quantized_and_trained.pt\n",
            " model01.pt\t        monk_v1\n",
            " model1.pt\t        plant-pathology-2020-fgvc7\n",
            " model.h5\t        Quantised_model01.pt\n",
            " model_keras.h5         Quantised_model.h5\n",
            " model.pt\n"
          ],
          "name": "stdout"
        }
      ]
    },
    {
      "cell_type": "code",
      "metadata": {
        "id": "c_eyGy4fp27E",
        "colab_type": "code",
        "colab": {}
      },
      "source": [
        "root = \"./plant-pathology-2020-fgvc7/images\""
      ],
      "execution_count": null,
      "outputs": []
    },
    {
      "cell_type": "code",
      "metadata": {
        "id": "4jieYhssp22C",
        "colab_type": "code",
        "colab": {}
      },
      "source": [
        "df = pd.read_csv(\"./plant-pathology-2020-fgvc7/my_csv.csv\")\n",
        "csv_file=df.to_numpy()"
      ],
      "execution_count": null,
      "outputs": []
    },
    {
      "cell_type": "code",
      "metadata": {
        "id": "9ph0oATgvLdR",
        "colab_type": "code",
        "colab": {}
      },
      "source": [
        ""
      ],
      "execution_count": null,
      "outputs": []
    },
    {
      "cell_type": "code",
      "metadata": {
        "id": "-KFZm1XhvLYI",
        "colab_type": "code",
        "colab": {
          "base_uri": "https://localhost:8080/",
          "height": 34
        },
        "outputId": "5fd134a2-979e-4e4d-a729-032f0775a909"
      },
      "source": [
        "print(csv_file[:,1])"
      ],
      "execution_count": null,
      "outputs": [
        {
          "output_type": "stream",
          "text": [
            "['multiple_diseases' 'healthy' 'rust' ... 'healthy' 'rust' 'scab']\n"
          ],
          "name": "stdout"
        }
      ]
    },
    {
      "cell_type": "code",
      "metadata": {
        "id": "LW9ByldGvLSb",
        "colab_type": "code",
        "colab": {}
      },
      "source": [
        "for i in range(len(csv_file[:,1])):\n",
        "  if(csv_file[i,1]=='healthy'):\n",
        "    csv_file[i,1]=0\n",
        "  elif(csv_file[i,1]==\"multiple_diseases\"):\n",
        "    csv_file[i,1]=1\n",
        "  elif(csv_file[i,1]==\"rust\"):\n",
        "    csv_file[i,1]=2\n",
        "  elif(csv_file[i,1]==\"scab\"):\n",
        "    csv_file[i,1]=3"
      ],
      "execution_count": null,
      "outputs": []
    },
    {
      "cell_type": "code",
      "metadata": {
        "id": "9D8PwUP6j92H",
        "colab_type": "code",
        "colab": {}
      },
      "source": [
        ""
      ],
      "execution_count": null,
      "outputs": []
    },
    {
      "cell_type": "code",
      "metadata": {
        "id": "ULiF3HZHpKQP",
        "colab_type": "code",
        "colab": {}
      },
      "source": [
        "class PlantDataset(Dataset):\n",
        "    def __init__(self, root,csv_file, transform=None):\n",
        "        self.root_dir = root\n",
        "        self.transform = transform\n",
        "        self.csv_file = csv_file\n",
        "        \n",
        "\n",
        "    def __len__(self):\n",
        "        return len(self.csv_file)\n",
        "\n",
        "    def __getitem__(self, idx):\n",
        "        img_name = os.path.join(self.root_dir,\n",
        "                                self.csv_file[idx, 0])\n",
        "        image = Image.open(img_name).convert('RGB')\n",
        "        label = self.csv_file[idx, 1]\n",
        "\n",
        "        if self.transform:\n",
        "            image = self.transform(image)\n",
        "        return image,label"
      ],
      "execution_count": null,
      "outputs": []
    },
    {
      "cell_type": "code",
      "metadata": {
        "id": "2l9Ukml_s2rV",
        "colab_type": "code",
        "colab": {}
      },
      "source": [
        "transform=transforms.Compose([CenterCrop(512),RandomGrayscale(p=0.5),RandomHorizontalFlip(0.5),RandomRotation(180),RandomVerticalFlip(p=0.5),\n",
        "                              ToTensor(),Normalize((0.485, 0.456, 0.406),(0.229, 0.224, 0.225))\n",
        "                                           ])"
      ],
      "execution_count": null,
      "outputs": []
    },
    {
      "cell_type": "code",
      "metadata": {
        "id": "EvOXpAt_sl2W",
        "colab_type": "code",
        "colab": {}
      },
      "source": [
        "trainset = PlantDataset(root=root,csv_file =csv_file , transform=transform)\n",
        "valset   = PlantDataset(root=root,csv_file =csv_file, transform=transform)"
      ],
      "execution_count": null,
      "outputs": []
    },
    {
      "cell_type": "code",
      "metadata": {
        "id": "6dXji0fHspqE",
        "colab_type": "code",
        "colab": {}
      },
      "source": [
        "def train_valid_split(dataset, test_size = 0.20, shuffle = False, random_seed = 0):\n",
        "    length = dataset.__len__()\n",
        "    indices = list(range(1,length))\n",
        "    \n",
        "    if shuffle == True:\n",
        "        random.seed(random_seed)\n",
        "        random.shuffle(indices)\n",
        "    \n",
        "    if type(test_size) is float:\n",
        "        split = floor(test_size * length)\n",
        "    elif type(test_size) is int:\n",
        "        split = test_size\n",
        "    else:\n",
        "        raise ValueError('%s should be an int or a float' % str)\n",
        "    return indices[split:], indices[:split]"
      ],
      "execution_count": null,
      "outputs": []
    },
    {
      "cell_type": "code",
      "metadata": {
        "id": "7spnJaLZw2kC",
        "colab_type": "code",
        "colab": {}
      },
      "source": [
        "train_idx, valid_idx = train_valid_split(trainset, 0.20)\n",
        "train_sampler = SubsetRandomSampler(train_idx)\n",
        "valid_sampler = SubsetRandomSampler(valid_idx)"
      ],
      "execution_count": null,
      "outputs": []
    },
    {
      "cell_type": "code",
      "metadata": {
        "id": "181Y7bI9xL-l",
        "colab_type": "code",
        "colab": {}
      },
      "source": [
        "train_loader = DataLoader(dataset=trainset, sampler = train_sampler,batch_size =8)\n",
        "valid_loader = DataLoader(dataset=valset, sampler = valid_sampler,batch_size =8)"
      ],
      "execution_count": null,
      "outputs": []
    },
    {
      "cell_type": "code",
      "metadata": {
        "id": "m6QEbdv1g3Ud",
        "colab_type": "code",
        "colab": {}
      },
      "source": [
        "import torchvision.models as models\n",
        "model = models.vgg16(pretrained=True)"
      ],
      "execution_count": null,
      "outputs": []
    },
    {
      "cell_type": "code",
      "metadata": {
        "id": "pkUViigJszYt",
        "colab_type": "code",
        "colab": {}
      },
      "source": [
        ""
      ],
      "execution_count": null,
      "outputs": []
    },
    {
      "cell_type": "code",
      "metadata": {
        "id": "Q3LVsxuhSsJ1",
        "colab_type": "code",
        "colab": {}
      },
      "source": [
        "#!pip install efficientnet-pytorch"
      ],
      "execution_count": null,
      "outputs": []
    },
    {
      "cell_type": "code",
      "metadata": {
        "id": "LqglHotexkE4",
        "colab_type": "code",
        "colab": {}
      },
      "source": [
        "#from efficientnet_pytorch import EfficientNet\n",
        "#model = EfficientNet.from_pretrained('efficientnet-b7') \n",
        "#model.cuda()"
      ],
      "execution_count": null,
      "outputs": []
    },
    {
      "cell_type": "code",
      "metadata": {
        "id": "KmjIy7WtSl2f",
        "colab_type": "code",
        "colab": {}
      },
      "source": [
        ""
      ],
      "execution_count": null,
      "outputs": []
    },
    {
      "cell_type": "code",
      "metadata": {
        "id": "6sFFqM8MTIu5",
        "colab_type": "code",
        "colab": {}
      },
      "source": [
        "model.fc = nn.Sequential(nn.Linear(in_features=1000,out_features=320),nn.Dropout(p=0.3),nn.Linear(in_features = 320,out_features=4))\n"
      ],
      "execution_count": null,
      "outputs": []
    },
    {
      "cell_type": "code",
      "metadata": {
        "id": "144tk9ZzSJIJ",
        "colab_type": "code",
        "colab": {
          "base_uri": "https://localhost:8080/",
          "height": 905
        },
        "outputId": "97dbc5ed-c407-41f8-8a76-8cfa9418e71b"
      },
      "source": [
        "model.cuda()"
      ],
      "execution_count": null,
      "outputs": [
        {
          "output_type": "execute_result",
          "data": {
            "text/plain": [
              "VGG(\n",
              "  (features): Sequential(\n",
              "    (0): Conv2d(3, 64, kernel_size=(3, 3), stride=(1, 1), padding=(1, 1))\n",
              "    (1): ReLU(inplace=True)\n",
              "    (2): Conv2d(64, 64, kernel_size=(3, 3), stride=(1, 1), padding=(1, 1))\n",
              "    (3): ReLU(inplace=True)\n",
              "    (4): MaxPool2d(kernel_size=2, stride=2, padding=0, dilation=1, ceil_mode=False)\n",
              "    (5): Conv2d(64, 128, kernel_size=(3, 3), stride=(1, 1), padding=(1, 1))\n",
              "    (6): ReLU(inplace=True)\n",
              "    (7): Conv2d(128, 128, kernel_size=(3, 3), stride=(1, 1), padding=(1, 1))\n",
              "    (8): ReLU(inplace=True)\n",
              "    (9): MaxPool2d(kernel_size=2, stride=2, padding=0, dilation=1, ceil_mode=False)\n",
              "    (10): Conv2d(128, 256, kernel_size=(3, 3), stride=(1, 1), padding=(1, 1))\n",
              "    (11): ReLU(inplace=True)\n",
              "    (12): Conv2d(256, 256, kernel_size=(3, 3), stride=(1, 1), padding=(1, 1))\n",
              "    (13): ReLU(inplace=True)\n",
              "    (14): Conv2d(256, 256, kernel_size=(3, 3), stride=(1, 1), padding=(1, 1))\n",
              "    (15): ReLU(inplace=True)\n",
              "    (16): MaxPool2d(kernel_size=2, stride=2, padding=0, dilation=1, ceil_mode=False)\n",
              "    (17): Conv2d(256, 512, kernel_size=(3, 3), stride=(1, 1), padding=(1, 1))\n",
              "    (18): ReLU(inplace=True)\n",
              "    (19): Conv2d(512, 512, kernel_size=(3, 3), stride=(1, 1), padding=(1, 1))\n",
              "    (20): ReLU(inplace=True)\n",
              "    (21): Conv2d(512, 512, kernel_size=(3, 3), stride=(1, 1), padding=(1, 1))\n",
              "    (22): ReLU(inplace=True)\n",
              "    (23): MaxPool2d(kernel_size=2, stride=2, padding=0, dilation=1, ceil_mode=False)\n",
              "    (24): Conv2d(512, 512, kernel_size=(3, 3), stride=(1, 1), padding=(1, 1))\n",
              "    (25): ReLU(inplace=True)\n",
              "    (26): Conv2d(512, 512, kernel_size=(3, 3), stride=(1, 1), padding=(1, 1))\n",
              "    (27): ReLU(inplace=True)\n",
              "    (28): Conv2d(512, 512, kernel_size=(3, 3), stride=(1, 1), padding=(1, 1))\n",
              "    (29): ReLU(inplace=True)\n",
              "    (30): MaxPool2d(kernel_size=2, stride=2, padding=0, dilation=1, ceil_mode=False)\n",
              "  )\n",
              "  (avgpool): AdaptiveAvgPool2d(output_size=(7, 7))\n",
              "  (classifier): Sequential(\n",
              "    (0): Linear(in_features=25088, out_features=4096, bias=True)\n",
              "    (1): ReLU(inplace=True)\n",
              "    (2): Dropout(p=0.5, inplace=False)\n",
              "    (3): Linear(in_features=4096, out_features=4096, bias=True)\n",
              "    (4): ReLU(inplace=True)\n",
              "    (5): Dropout(p=0.5, inplace=False)\n",
              "    (6): Linear(in_features=4096, out_features=1000, bias=True)\n",
              "  )\n",
              "  (fc): Sequential(\n",
              "    (0): Linear(in_features=1000, out_features=320, bias=True)\n",
              "    (1): Dropout(p=0.3, inplace=False)\n",
              "    (2): Linear(in_features=320, out_features=4, bias=True)\n",
              "  )\n",
              ")"
            ]
          },
          "metadata": {
            "tags": []
          },
          "execution_count": 20
        }
      ]
    },
    {
      "cell_type": "code",
      "metadata": {
        "id": "t25kBNQlRptT",
        "colab_type": "code",
        "colab": {
          "base_uri": "https://localhost:8080/",
          "height": 34
        },
        "outputId": "3b9e7d44-8d8a-42df-dddd-b1ad854fe4b9"
      },
      "source": [
        "model.load_state_dict(torch.load('model.pt'))"
      ],
      "execution_count": null,
      "outputs": [
        {
          "output_type": "execute_result",
          "data": {
            "text/plain": [
              "<All keys matched successfully>"
            ]
          },
          "metadata": {
            "tags": []
          },
          "execution_count": 18
        }
      ]
    },
    {
      "cell_type": "code",
      "metadata": {
        "id": "hP4SbnkOR-Hs",
        "colab_type": "code",
        "colab": {}
      },
      "source": [
        "import time"
      ],
      "execution_count": null,
      "outputs": []
    },
    {
      "cell_type": "code",
      "metadata": {
        "id": "Qsqi3oDRtWId",
        "colab_type": "code",
        "colab": {
          "base_uri": "https://localhost:8080/",
          "height": 34
        },
        "outputId": "a15288a7-8a24-4c82-9504-f8c318e91455"
      },
      "source": [
        "ct = 0\n",
        "for child in model.children():\n",
        "  ct += 1\n",
        "  if ct < 3:\n",
        "      for param in child.parameters():\n",
        "          param.requires_grad = False\n",
        "  else:\n",
        "    for param in child.parameters():\n",
        "          param.requires_grad = True\n",
        "print(ct)"
      ],
      "execution_count": null,
      "outputs": [
        {
          "output_type": "stream",
          "text": [
            "4\n"
          ],
          "name": "stdout"
        }
      ]
    },
    {
      "cell_type": "code",
      "metadata": {
        "id": "6pfpjbvoeiig",
        "colab_type": "code",
        "colab": {}
      },
      "source": [
        "criterion = nn.CrossEntropyLoss()\n",
        "optimizer = optim.RMSprop(model.parameters(), lr=0.001)"
      ],
      "execution_count": null,
      "outputs": []
    },
    {
      "cell_type": "code",
      "metadata": {
        "id": "6AyTBJ8VC_Z7",
        "colab_type": "code",
        "colab": {}
      },
      "source": [
        ""
      ],
      "execution_count": null,
      "outputs": []
    },
    {
      "cell_type": "code",
      "metadata": {
        "id": "ukeqofVDAFzS",
        "colab_type": "code",
        "colab": {}
      },
      "source": [
        ""
      ],
      "execution_count": null,
      "outputs": []
    },
    {
      "cell_type": "code",
      "metadata": {
        "id": "JnZGr1AWfEEF",
        "colab_type": "code",
        "colab": {
          "base_uri": "https://localhost:8080/",
          "height": 783
        },
        "outputId": "a9c8e18b-f7f7-40e3-a37b-2e18f404263f"
      },
      "source": [
        "\n",
        "for epoch in range(10):  # loop over the dataset multiple times\n",
        "  \n",
        "    model.train()\n",
        "    valid_losses=[]\n",
        "    train_losses=[]\n",
        "    \n",
        "    for i,(inputs, labels) in enumerate(train_loader):\n",
        "        \n",
        "        inputs = inputs.cuda()\n",
        "        labels = labels.cuda()\n",
        "\n",
        "        optimizer.zero_grad()\n",
        "        \n",
        "        outputs = model(inputs)\n",
        "        loss = criterion(outputs,labels)\n",
        "        train_losses.append(loss.item())\n",
        "        loss.backward()\n",
        "        optimizer.step()\n",
        "    print(np.average(train_losses))\n",
        "    correct =0\n",
        "    total =0\n",
        "    wrong=0\n",
        "    model.eval()\n",
        "    for inputs, labels in valid_loader:\n",
        "      inputs = inputs.cuda()\n",
        "      labels = labels.cuda()\n",
        "      \n",
        "      output = model(inputs)\n",
        "      loss = criterion(output,labels)\n",
        "      valid_losses.append(loss.item())\n",
        "      _, preds = torch.max(output.data, 1)\n",
        "      correct += torch.sum(preds == labels)\n",
        "      wrong += torch.sum(preds != labels)\n",
        "      \n",
        "    acc = (correct.float()) / ((correct+wrong).float())  \n",
        "    valid_loss = np.average(valid_losses)\n",
        "    print(valid_loss)\n",
        "    print(\"accuracy =\",(correct*100)/(correct+wrong))\n",
        "    print(epoch)\n",
        "      \n",
        "          \n",
        "\n",
        "\n",
        "print('Finished Training')\n"
      ],
      "execution_count": null,
      "outputs": [
        {
          "output_type": "stream",
          "text": [
            "13.673967202449893\n",
            "1.1714202476584392\n",
            "accuracy = tensor(46, device='cuda:0')\n",
            "0\n"
          ],
          "name": "stdout"
        },
        {
          "output_type": "stream",
          "text": [
            "/pytorch/aten/src/ATen/native/BinaryOps.cpp:81: UserWarning: Integer division of tensors using div or / is deprecated, and in a future release div will perform true division as in Python 3. Use true_divide or floor_divide (// in Python) instead.\n"
          ],
          "name": "stderr"
        },
        {
          "output_type": "stream",
          "text": [
            "1.3902054671402817\n",
            "1.2273356046365655\n",
            "accuracy = tensor(51, device='cuda:0')\n",
            "1\n",
            "1.34483809867403\n",
            "1.0509772663531096\n",
            "accuracy = tensor(57, device='cuda:0')\n",
            "2\n",
            "1.2821231269901925\n",
            "1.103029339209847\n",
            "accuracy = tensor(59, device='cuda:0')\n",
            "3\n",
            "1.1985488655147971\n",
            "1.0199004100716633\n",
            "accuracy = tensor(58, device='cuda:0')\n",
            "4\n",
            "1.1786286508725894\n",
            "1.003952470810517\n",
            "accuracy = tensor(61, device='cuda:0')\n",
            "5\n",
            "1.2022619044387735\n",
            "0.8911102355822272\n",
            "accuracy = tensor(65, device='cuda:0')\n",
            "6\n",
            "1.1558092010545207\n",
            "0.8920198847418246\n",
            "accuracy = tensor(67, device='cuda:0')\n",
            "7\n",
            "1.1116356338773454\n",
            "0.9678575875966445\n",
            "accuracy = tensor(70, device='cuda:0')\n",
            "8\n",
            "1.16257962846494\n",
            "0.9580275014690731\n",
            "accuracy = tensor(71, device='cuda:0')\n",
            "9\n",
            "Finished Training\n"
          ],
          "name": "stdout"
        }
      ]
    },
    {
      "cell_type": "code",
      "metadata": {
        "id": "S6scTYo7SJAa",
        "colab_type": "code",
        "colab": {}
      },
      "source": [
        "torch.save(model.state_dict(), 'modelVGG16.pt')"
      ],
      "execution_count": null,
      "outputs": []
    },
    {
      "cell_type": "code",
      "metadata": {
        "id": "FZXW7xoRrc2U",
        "colab_type": "code",
        "colab": {}
      },
      "source": [
        ""
      ],
      "execution_count": null,
      "outputs": []
    },
    {
      "cell_type": "code",
      "metadata": {
        "id": "RJhVUzS7RdH6",
        "colab_type": "code",
        "colab": {}
      },
      "source": [
        "def test(model,valid_loader):\n",
        "    start = time.process_time()\n",
        "    valid_losses=[]\n",
        "    correct =0\n",
        "    total =0\n",
        "    wrong=0\n",
        "    model.eval()\n",
        "    for inputs, labels in valid_loader:\n",
        "      inputs = inputs.cuda()\n",
        "      labels = labels.cuda()\n",
        "      \n",
        "      output = model(inputs)\n",
        "      loss = criterion(output,labels)\n",
        "      valid_losses.append(loss.item())\n",
        "      _, preds = torch.max(output.data, 1)\n",
        "      correct += torch.sum(preds == labels)\n",
        "      wrong += torch.sum(preds != labels)\n",
        "      \n",
        "    acc = (correct.float()) / ((correct+wrong).float())  \n",
        "    valid_loss = np.average(valid_losses)\n",
        "    print(time.process_time()- start)\n",
        "\n",
        "    return((correct*100)/(correct+wrong))"
      ],
      "execution_count": null,
      "outputs": []
    },
    {
      "cell_type": "code",
      "metadata": {
        "id": "uT_R7kG8rcz2",
        "colab_type": "code",
        "colab": {}
      },
      "source": [
        "device = torch.device('cuda') if torch.cuda.is_available() else torch.device('cpu')"
      ],
      "execution_count": null,
      "outputs": []
    },
    {
      "cell_type": "code",
      "metadata": {
        "id": "HZgNMP99rcuF",
        "colab_type": "code",
        "colab": {}
      },
      "source": [
        "import time"
      ],
      "execution_count": null,
      "outputs": []
    },
    {
      "cell_type": "code",
      "metadata": {
        "id": "vzpCJ1vDRdB-",
        "colab_type": "code",
        "colab": {}
      },
      "source": [
        "def weight_prune(model, pruning_percentage, test_dl):\n",
        "    model1 = copy.deepcopy(model)\n",
        "    length = len(list(model1.parameters()))\n",
        "    for i, param in enumerate(model1.parameters()):\n",
        "        if len(param.size())!=1 and i<length-2:\n",
        "            weight = param.detach().cpu().numpy()\n",
        "            weight[np.abs(weight)<np.percentile(np.abs(weight), pruning_percentage)] = 0\n",
        "            weight = torch.from_numpy(weight).to(device)\n",
        "            param.data = weight\n",
        "    return test(model1, test_dl)"
      ],
      "execution_count": null,
      "outputs": []
    },
    {
      "cell_type": "code",
      "metadata": {
        "id": "4XH-YEJrtUxj",
        "colab_type": "code",
        "colab": {
          "base_uri": "https://localhost:8080/",
          "height": 194
        },
        "outputId": "c449da75-a698-4147-e0cc-5502efa4869d"
      },
      "source": [
        "pruning_percent = [0, 25, 50, 60, 70, 80, 90, 95, 97, 99]\n",
        "accuracy_weight_pruning = []\n",
        "for percent in pruning_percent:\n",
        "    accuracy_weight_pruning.append(weight_prune(model, percent, valid_loader))"
      ],
      "execution_count": null,
      "outputs": [
        {
          "output_type": "stream",
          "text": [
            "41.439746684000056\n",
            "41.15951580800004\n",
            "41.146315372000004\n",
            "41.104516917999945\n",
            "41.822914965999985\n",
            "41.67167307200009\n",
            "41.49957800100003\n",
            "41.17189669900006\n",
            "41.192441330000065\n",
            "41.235941875000094\n"
          ],
          "name": "stdout"
        }
      ]
    },
    {
      "cell_type": "code",
      "metadata": {
        "id": "FgzKbcjYzoEk",
        "colab_type": "code",
        "colab": {
          "base_uri": "https://localhost:8080/",
          "height": 54
        },
        "outputId": "f2aed7c4-1902-493f-f1a5-df05fc815033"
      },
      "source": [
        "print(accuracy_weight_pruning)"
      ],
      "execution_count": null,
      "outputs": [
        {
          "output_type": "stream",
          "text": [
            "[tensor(83, device='cuda:0'), tensor(84, device='cuda:0'), tensor(81, device='cuda:0'), tensor(76, device='cuda:0'), tensor(71, device='cuda:0'), tensor(46, device='cuda:0'), tensor(31, device='cuda:0'), tensor(31, device='cuda:0'), tensor(31, device='cuda:0'), tensor(31, device='cuda:0')]\n"
          ],
          "name": "stdout"
        }
      ]
    },
    {
      "cell_type": "code",
      "metadata": {
        "id": "TXM3ggM97n52",
        "colab_type": "code",
        "colab": {
          "base_uri": "https://localhost:8080/",
          "height": 504
        },
        "outputId": "2bb365cf-260d-42a9-f06b-c4d21a97e005"
      },
      "source": [
        "original_accuracy = 83\n",
        "from pylab import rcParams\n",
        "rcParams['figure.figsize'] = 12, 8\n",
        "plt.plot(pruning_percent, np.size(pruning_percent)*[original_accuracy], 'r',\n",
        "         pruning_percent, accuracy_weight_pruning, 'b')\n",
        "plt.grid()\n",
        "plt.legend([['Original Accuracy'], \n",
        "            ['Accuracy with weight pruning']],\n",
        "           loc='lower left', fontsize='xx-large')\n",
        "plt.xlabel('Pruning Percentage', fontsize='xx-large')\n",
        "plt.ylabel('Accuracy', fontsize='xx-large')\n",
        "plt.xticks(pruning_percent)\n",
        "plt.yticks(np.arange(0, 1.05, 0.05))\n",
        "plt.show()"
      ],
      "execution_count": null,
      "outputs": [
        {
          "output_type": "display_data",
          "data": {
            "image/png": "[encoded data removed]",
            "text/plain": [
              "<Figure size 864x576 with 1 Axes>"
            ]
          },
          "metadata": {
            "tags": [],
            "needs_background": "light"
          }
        }
      ]
    },
    {
      "cell_type": "code",
      "metadata": {
        "id": "MBlE-jGCDIGw",
        "colab_type": "code",
        "colab": {}
      },
      "source": [
        ""
      ],
      "execution_count": null,
      "outputs": []
    }
  ]
}